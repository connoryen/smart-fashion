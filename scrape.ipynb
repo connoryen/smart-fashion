{
 "cells": [
  {
   "cell_type": "code",
   "execution_count": 1,
   "id": "2f66ded1-64af-4b2d-8ac5-f6aba920fe27",
   "metadata": {
    "tags": []
   },
   "outputs": [],
   "source": [
    "from selenium import webdriver\n",
    "from selenium.webdriver.common.by import By\n",
    "from selenium.webdriver.chrome.service import Service\n",
    "from selenium.webdriver.support.ui import WebDriverWait\n",
    "from selenium.webdriver.support import expected_conditions as EC\n",
    "from selenium.common.exceptions import NoSuchElementException, StaleElementReferenceException, TimeoutException\n",
    "import pandas as pd\n",
    "import csv\n",
    "import time\n",
    "\n",
    "driver_path = r\"C:\\browser_automation\\chromedriver-win64\\chromedriver.exe\"\n",
    "\n",
    "# Function to scrape the current page\n",
    "def scrape_current_page(driver, writer):\n",
    "    items = driver.find_elements(By.CLASS_NAME, 'itemContainer')\n",
    "    for i in range(len(items)):\n",
    "        item = driver.find_elements(By.CLASS_NAME, 'itemContainer')[i]\n",
    "        \n",
    "        try:\n",
    "            link_element = item.find_element(By.CSS_SELECTOR, 'a.itemlink')\n",
    "            link = link_element.get_attribute('href')\n",
    "        except NoSuchElementException:\n",
    "            link = 'NA'\n",
    "        \n",
    "        try:\n",
    "            brand = item.find_element(By.CLASS_NAME, 'brand').text\n",
    "        except NoSuchElementException:\n",
    "            brand = 'NA'\n",
    "        \n",
    "        try:\n",
    "            category = item.find_element(By.CLASS_NAME, 'microcategory').text\n",
    "        except NoSuchElementException:\n",
    "            category = 'NA'\n",
    "        \n",
    "        try:\n",
    "            old_price = float(item.find_element(By.CLASS_NAME, 'oldprice').text.replace(\"$\", \"\").replace(\",\", \"\").strip())\n",
    "        except NoSuchElementException:\n",
    "            old_price = 'NA'\n",
    "        \n",
    "        try:\n",
    "            new_price = float(item.find_element(By.CLASS_NAME, 'retail-newprice').text.replace(\"$\", \"\").replace(\",\", \"\").strip())\n",
    "        except NoSuchElementException:\n",
    "            new_price = 'NA'\n",
    "\n",
    "        try:\n",
    "            sizes_elements = item.find_elements(By.CLASS_NAME, 'aSize')\n",
    "            sizes = ', '.join([size.text for size in sizes_elements])\n",
    "        except NoSuchElementException:\n",
    "            sizes = 'NA'\n",
    "\n",
    "        writer.writerow({'link': link, 'brand': brand, 'category': category, 'old_price': old_price, 'new_price': new_price, 'sizes': sizes})\n",
    "\n",
    "def scrape_website(link, driver, writer):\n",
    "    driver.get(link)\n",
    "    \n",
    "    while True:\n",
    "        scrape_current_page(driver, writer)\n",
    "        try:\n",
    "            next_button = WebDriverWait(driver, 2).until(EC.element_to_be_clickable((By.CLASS_NAME, 'nextPage')))\n",
    "            driver.execute_script(\"arguments[0].click();\", next_button)\n",
    "            WebDriverWait(driver, 2).until(EC.staleness_of(next_button))\n",
    "        except (TimeoutException, NoSuchElementException):\n",
    "            break\n",
    "\n",
    "# Read links from text file\n",
    "with open('links.txt', 'r') as file:\n",
    "    links = file.readlines()\n",
    "\n",
    "# Setup Selenium WebDriver\n",
    "service = Service(executable_path=driver_path)\n",
    "driver = webdriver.Chrome(service=service)\n",
    "\n",
    "# Open a CSV file to write data\n",
    "with open('scraped_data.csv', mode='w', newline='', encoding='utf-8') as file:\n",
    "    writer = csv.DictWriter(file, fieldnames=['link', 'brand', 'category', 'old_price', 'new_price', 'sizes'])\n",
    "    writer.writeheader()\n",
    "\n",
    "    for link in links:\n",
    "        scrape_website(link.strip(), driver, writer)\n",
    "\n",
    "driver.quit()"
   ]
  },
  {
   "cell_type": "code",
   "execution_count": null,
   "id": "69ec0dbe-ee11-4f7e-8d57-3fac425d8c63",
   "metadata": {
    "tags": []
   },
   "outputs": [],
   "source": [
    "driver.quit()"
   ]
  }
 ],
 "metadata": {
  "kernelspec": {
   "display_name": "Python 3 (ipykernel)",
   "language": "python",
   "name": "python3"
  },
  "language_info": {
   "codemirror_mode": {
    "name": "ipython",
    "version": 3
   },
   "file_extension": ".py",
   "mimetype": "text/x-python",
   "name": "python",
   "nbconvert_exporter": "python",
   "pygments_lexer": "ipython3",
   "version": "3.11.4"
  }
 },
 "nbformat": 4,
 "nbformat_minor": 5
}
